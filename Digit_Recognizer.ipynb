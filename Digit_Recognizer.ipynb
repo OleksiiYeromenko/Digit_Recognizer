{
 "cells": [
  {
   "cell_type": "code",
   "execution_count": 338,
   "metadata": {},
   "outputs": [],
   "source": [
    "import pandas as pd\n",
    "import numpy as np\n",
    "from sklearn.model_selection import train_test_split\n",
    "from sklearn.metrics import confusion_matrix\n",
    "import tensorflow as tf\n",
    "import tensorflow.keras as keras\n",
    "import matplotlib.pyplot as plt \n",
    "\n",
    "#Import data\n",
    "train = pd.read_csv(\"D:\\Digit_recognizer\\digit-recognizer/train.csv\")\n",
    "test = pd.read_csv(\"D:\\Digit_recognizer\\digit-recognizer/test.csv\")"
   ]
  },
  {
   "cell_type": "code",
   "execution_count": 339,
   "metadata": {
    "scrolled": true
   },
   "outputs": [
    {
     "data": {
      "text/plain": [
       "(0, 0)"
      ]
     },
     "execution_count": 339,
     "metadata": {},
     "output_type": "execute_result"
    }
   ],
   "source": [
    "#Prepare X and Y from train data\n",
    "X=train.drop([\"label\"],axis = 1)\n",
    "Y=train.label\n",
    "\n",
    "#Check train and test data for null\n",
    "X.isnull().sum().sum(), test.isnull().sum().sum()"
   ]
  },
  {
   "cell_type": "code",
   "execution_count": 340,
   "metadata": {},
   "outputs": [],
   "source": [
    "#Split train set into train and test\n",
    "train_x,test_x,train_y,test_y = train_test_split(X,Y,test_size=0.20,random_state=1)\n",
    "#Need to convert train_x and train_y into np arrays. As model only accepts numpy arrays\n",
    "train_x = train_x.values\n",
    "train_y = train_y.values\n",
    "test_x  = test_x.values\n",
    "test_y  = test_y.values"
   ]
  },
  {
   "cell_type": "code",
   "execution_count": 341,
   "metadata": {},
   "outputs": [],
   "source": [
    "#Normalize data (to reduce grayscale 0-255 illumination differences)\n",
    "train_x=train_x/255.0\n",
    "test_x=test_x/255.0\n",
    "test=test/255.0"
   ]
  },
  {
   "cell_type": "code",
   "execution_count": 351,
   "metadata": {},
   "outputs": [],
   "source": [
    "#Configure model\n",
    "model = tf.keras.models.Sequential()\n",
    "model.add(keras.layers.Dense(128,activation=tf.nn.relu)) \n",
    "model.add(keras.layers.Dense(10,activation=tf.nn.softmax)) \n",
    "model.compile(metrics=['accuracy'], optimizer='adam',loss='sparse_categorical_crossentropy') "
   ]
  },
  {
   "cell_type": "code",
   "execution_count": 360,
   "metadata": {},
   "outputs": [
    {
     "name": "stdout",
     "output_type": "stream",
     "text": [
      "Epoch 1/13\n",
      "33600/33600 [==============================] - 3s 95us/sample - loss: 0.3243 - acc: 0.9077\n",
      "Epoch 2/13\n",
      "33600/33600 [==============================] - 3s 86us/sample - loss: 0.1470 - acc: 0.9573\n",
      "Epoch 3/13\n",
      "33600/33600 [==============================] - 3s 83us/sample - loss: 0.1021 - acc: 0.9690\n",
      "Epoch 4/13\n",
      "33600/33600 [==============================] - 3s 83us/sample - loss: 0.0735 - acc: 0.9786\n",
      "Epoch 5/13\n",
      "33600/33600 [==============================] - 3s 84us/sample - loss: 0.0556 - acc: 0.9833\n",
      "Epoch 6/13\n",
      "33600/33600 [==============================] - 3s 81us/sample - loss: 0.0446 - acc: 0.9872\n",
      "Epoch 7/13\n",
      "33600/33600 [==============================] - 3s 86us/sample - loss: 0.0323 - acc: 0.9908\n",
      "Epoch 8/13\n",
      "33600/33600 [==============================] - 3s 86us/sample - loss: 0.0253 - acc: 0.9929\n",
      "Epoch 9/13\n",
      "33600/33600 [==============================] - 3s 83us/sample - loss: 0.0221 - acc: 0.9935\n",
      "Epoch 10/13\n",
      "33600/33600 [==============================] - 3s 85us/sample - loss: 0.0166 - acc: 0.9954\n",
      "Epoch 11/13\n",
      "33600/33600 [==============================] - 3s 88us/sample - loss: 0.0129 - acc: 0.9965\n",
      "Epoch 12/13\n",
      "33600/33600 [==============================] - 3s 84us/sample - loss: 0.0125 - acc: 0.9963\n",
      "Epoch 13/13\n",
      "33600/33600 [==============================] - 3s 86us/sample - loss: 0.0091 - acc: 0.9976\n"
     ]
    }
   ],
   "source": [
    "#Fit training data to the model\n",
    "history=model.fit(train_x,train_y,epochs=13)"
   ]
  },
  {
   "cell_type": "code",
   "execution_count": 361,
   "metadata": {},
   "outputs": [
    {
     "data": {
      "image/png": "[encoded data removed]",
      "text/plain": [
       "<Figure size 432x288 with 1 Axes>"
      ]
     },
     "metadata": {
      "needs_background": "light"
     },
     "output_type": "display_data"
    }
   ],
   "source": [
    "#Calc epochs efficiency:\n",
    "loss = history.history['loss']\n",
    "acc = history.history['acc']\n",
    "\n",
    "epochs = range(1,len(loss)+1)\n",
    "plt.plot(epochs,acc,'bx',label='Accuracy')\n",
    "plt.plot(epochs,loss,'bo',label='Loss')\n",
    "plt.xlabel('Epochs')\n",
    "plt.ylabel('Accuracy')\n",
    "plt.legend()\n",
    "plt.show()"
   ]
  },
  {
   "cell_type": "code",
   "execution_count": 362,
   "metadata": {
    "scrolled": true
   },
   "outputs": [
    {
     "name": "stdout",
     "output_type": "stream",
     "text": [
      "8400/8400 [==============================] - 0s 42us/sample - loss: 0.1068 - acc: 0.9720\n"
     ]
    }
   ],
   "source": [
    "#Calc loss and accuracy on test(train-test) data:\n",
    "test_loss,test_acc = model.evaluate(test_x, test_y)"
   ]
  },
  {
   "cell_type": "code",
   "execution_count": 363,
   "metadata": {
    "scrolled": true
   },
   "outputs": [
    {
     "name": "stdout",
     "output_type": "stream",
     "text": [
      "Probability distribution:\n",
      "[4.5187935e-05 1.7864496e-11 1.2213456e-04 1.5347742e-09 9.4449870e-16\n",
      " 9.7107375e-01 2.8713290e-02 2.0726248e-12 4.5781071e-05 1.3783958e-11]\n",
      "Predicted value:\n",
      "5\n",
      "Actual value:\n",
      "5\n"
     ]
    }
   ],
   "source": [
    "#Try test index predict vs actual\n",
    "predictions  = model.predict(test_x)\n",
    "idx = 34\n",
    "print('Probability distribution:')\n",
    "print(predictions[idx])\n",
    "print('Predicted value:')\n",
    "print(np.argmax(predictions[idx]))\n",
    "print('Actual value:')\n",
    "print(test_y[idx])"
   ]
  },
  {
   "cell_type": "code",
   "execution_count": 364,
   "metadata": {},
   "outputs": [],
   "source": [
    "#Fail to predict correctly:\n",
    "num_rows = test_x.shape[0]\n",
    "predictions_label=[]     #convert predictions to labels\n",
    "incorrect_predict_digit = [] \n",
    "incorrect_actual_digit = [] \n",
    "err_indx=[]\n",
    "for i in range(num_rows):\n",
    "    predicted_value = np.argmax(predictions[i])\n",
    "    predictions_label.append(np.argmax(predictions[i]))\n",
    "    actual_value = test_y[i]\n",
    "    if predicted_value != actual_value:\n",
    "        incorrect_predict_digit.append(predicted_value)\n",
    "        incorrect_actual_digit.append(actual_value)\n",
    "        err_indx.append(i)\n",
    "        \n",
    "#Show few incorrect pictures:\n",
    "\n"
   ]
  },
  {
   "cell_type": "code",
   "execution_count": 365,
   "metadata": {},
   "outputs": [
    {
     "data": {
      "image/png": "[encoded data removed]",
      "text/plain": [
       "<Figure size 2016x2016 with 5 Axes>"
      ]
     },
     "metadata": {
      "needs_background": "light"
     },
     "output_type": "display_data"
    }
   ],
   "source": [
    "#First 5 wrong predictions:\n",
    "plt.figure(figsize=(28,28))\n",
    "for i in range(5):\n",
    "    plt.subplot(1,5,i+1)\n",
    "    plt.grid(False)\n",
    "    plt.imshow(test_x[err_indx[i]].reshape(28,28), cmap=plt.cm.binary)\n",
    "    plt.title(predictions_label[err_indx[i]],fontsize= 30)\n",
    "plt.show()"
   ]
  },
  {
   "cell_type": "code",
   "execution_count": 366,
   "metadata": {
    "scrolled": true
   },
   "outputs": [
    {
     "data": {
      "image/png": "[encoded data removed]",
      "text/plain": [
       "<Figure size 432x288 with 1 Axes>"
      ]
     },
     "metadata": {
      "needs_background": "light"
     },
     "output_type": "display_data"
    }
   ],
   "source": [
    "#Histogram fails predict vs actual:\n",
    "plt.hist(incorrect_predict_digit,bins=40,color='blue', alpha=0.5)\n",
    "plt.hist(incorrect_actual_digit,bins=40,color='gray', alpha=0.5)\n",
    "plt.xticks(np.arange(10), range(10))\n",
    "plt.show()"
   ]
  },
  {
   "cell_type": "code",
   "execution_count": 367,
   "metadata": {
    "scrolled": true
   },
   "outputs": [
    {
     "name": "stdout",
     "output_type": "stream",
     "text": [
      "[[841   0   4   0   0   0   4   0   1   3]\n",
      " [  0 936   2   1   0   0   1   0   0   0]\n",
      " [  1   2 820   3   0   0   0   4   5   0]\n",
      " [  1   0   7 835   1  19   0   2   5   3]\n",
      " [  0   1   1   0 811   0   1   2   1  12]\n",
      " [  2   0   1   2   2 714   5   2   1   2]\n",
      " [  0   0   1   0   4   2 793   0   0   0]\n",
      " [  0   0   4   0   4   0   0 835   1   6]\n",
      " [  2   5   0   2   6  10   5   1 812   3]\n",
      " [  2   0   0   0   3   3   0   6   1 828]]\n"
     ]
    },
    {
     "data": {
      "text/plain": [
       "Text(95.305, 0.5, 'Actual')"
      ]
     },
     "execution_count": 367,
     "metadata": {},
     "output_type": "execute_result"
    },
    {
     "data": {
      "image/png": "[encoded data removed]",
      "text/plain": [
       "<Figure size 432x288 with 2 Axes>"
      ]
     },
     "metadata": {
      "needs_background": "light"
     },
     "output_type": "display_data"
    }
   ],
   "source": [
    "#Confusion matrix:\n",
    "cm = confusion_matrix(test_y, prediction_label)\n",
    "print(cm)\n",
    "\n",
    "# Plot confusion matrix as an image:\n",
    "for i in list(range(10)):\n",
    "    cm[i,i] = 0   #remove corrects for clear view\n",
    "plt.imshow(cm, interpolation='nearest', cmap='viridis')#cmap=plt.cm.Blues\n",
    "plt.tight_layout()\n",
    "plt.colorbar()\n",
    "tick_marks = np.arange(10)\n",
    "plt.xticks(tick_marks, range(10))\n",
    "plt.yticks(tick_marks, range(10))\n",
    "plt.xlabel('Predicted')\n",
    "plt.ylabel('Actual')"
   ]
  },
  {
   "cell_type": "code",
   "execution_count": null,
   "metadata": {},
   "outputs": [],
   "source": []
  }
 ],
 "metadata": {
  "kernelspec": {
   "display_name": "Python 3",
   "language": "python",
   "name": "python3"
  },
  "language_info": {
   "codemirror_mode": {
    "name": "ipython",
    "version": 3
   },
   "file_extension": ".py",
   "mimetype": "text/x-python",
   "name": "python",
   "nbconvert_exporter": "python",
   "pygments_lexer": "ipython3",
   "version": "3.7.1"
  }
 },
 "nbformat": 4,
 "nbformat_minor": 2
}
