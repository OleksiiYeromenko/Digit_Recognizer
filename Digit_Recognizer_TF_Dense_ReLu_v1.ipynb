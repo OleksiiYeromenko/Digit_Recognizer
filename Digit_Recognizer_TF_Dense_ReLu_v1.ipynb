{
 "cells": [
  {
   "cell_type": "code",
   "execution_count": 522,
   "metadata": {},
   "outputs": [],
   "source": [
    "import pandas as pd\n",
    "import numpy as np\n",
    "from sklearn.model_selection import train_test_split\n",
    "from sklearn.metrics import confusion_matrix\n",
    "import tensorflow as tf\n",
    "import tensorflow.keras as keras\n",
    "import matplotlib.pyplot as plt \n",
    "\n",
    "#Import data\n",
    "train = pd.read_csv(\"D:\\Digit_recognizer\\digit-recognizer/train.csv\")\n",
    "test = pd.read_csv(\"D:\\Digit_recognizer\\digit-recognizer/test.csv\")"
   ]
  },
  {
   "cell_type": "code",
   "execution_count": 523,
   "metadata": {
    "scrolled": true
   },
   "outputs": [
    {
     "data": {
      "text/plain": [
       "(0, 0)"
      ]
     },
     "execution_count": 523,
     "metadata": {},
     "output_type": "execute_result"
    }
   ],
   "source": [
    "#Prepare X and Y from train data\n",
    "X=train.drop([\"label\"],axis = 1)\n",
    "Y=train.label\n",
    "\n",
    "#Check train and test data for null\n",
    "X.isnull().sum().sum(), test.isnull().sum().sum()"
   ]
  },
  {
   "cell_type": "code",
   "execution_count": 524,
   "metadata": {},
   "outputs": [],
   "source": [
    "#Split train set into train and test\n",
    "train_x,test_x,train_y,test_y = train_test_split(X,Y,test_size=0.10,random_state=1)\n",
    "#Need to convert train_x and train_y into np arrays. As model only accepts numpy arrays\n",
    "train_x = train_x.values\n",
    "train_y = train_y.values\n",
    "test_x  = test_x.values\n",
    "test_y  = test_y.values"
   ]
  },
  {
   "cell_type": "code",
   "execution_count": 525,
   "metadata": {},
   "outputs": [],
   "source": [
    "#Normalize data (to reduce grayscale 0-255 illumination differences)\n",
    "train_x=train_x/255.0\n",
    "test_x=test_x/255.0\n",
    "test=test/255.0"
   ]
  },
  {
   "cell_type": "code",
   "execution_count": 526,
   "metadata": {},
   "outputs": [],
   "source": [
    "#Configure model\n",
    "model = tf.keras.models.Sequential()\n",
    "model.add(keras.layers.Dense(128,activation=tf.nn.relu)) \n",
    "model.add(keras.layers.Dense(10,activation=tf.nn.softmax)) \n",
    "model.compile(metrics=['accuracy'], optimizer='adam',loss='sparse_categorical_crossentropy') "
   ]
  },
  {
   "cell_type": "code",
   "execution_count": 527,
   "metadata": {},
   "outputs": [
    {
     "name": "stdout",
     "output_type": "stream",
     "text": [
      "Epoch 1/15\n",
      "37800/37800 [==============================] - 4s 104us/sample - loss: 0.3046 - acc: 0.9129\n",
      "Epoch 2/15\n",
      "37800/37800 [==============================] - 4s 94us/sample - loss: 0.1369 - acc: 0.9600\n",
      "Epoch 3/15\n",
      "37800/37800 [==============================] - 3s 90us/sample - loss: 0.0954 - acc: 0.9710\n",
      "Epoch 4/15\n",
      "37800/37800 [==============================] - 4s 96us/sample - loss: 0.0695 - acc: 0.9790\n",
      "Epoch 5/15\n",
      "37800/37800 [==============================] - 4s 94us/sample - loss: 0.0542 - acc: 0.9830\n",
      "Epoch 6/15\n",
      "37800/37800 [==============================] - 4s 101us/sample - loss: 0.0404 - acc: 0.9875\n",
      "Epoch 7/15\n",
      "37800/37800 [==============================] - 4s 101us/sample - loss: 0.0331 - acc: 0.9901\n",
      "Epoch 8/15\n",
      "37800/37800 [==============================] - 4s 97us/sample - loss: 0.0267 - acc: 0.9922\n",
      "Epoch 9/15\n",
      "37800/37800 [==============================] - 4s 97us/sample - loss: 0.0202 - acc: 0.9943\n",
      "Epoch 10/15\n",
      "37800/37800 [==============================] - 3s 91us/sample - loss: 0.0175 - acc: 0.9950\n",
      "Epoch 11/15\n",
      "37800/37800 [==============================] - 4s 104us/sample - loss: 0.0127 - acc: 0.9965\n",
      "Epoch 12/15\n",
      "37800/37800 [==============================] - 4s 105us/sample - loss: 0.0122 - acc: 0.9966\n",
      "Epoch 13/15\n",
      "37800/37800 [==============================] - 4s 100us/sample - loss: 0.0090 - acc: 0.9978\n",
      "Epoch 14/15\n",
      "37800/37800 [==============================] - 4s 103us/sample - loss: 0.0086 - acc: 0.9977\n",
      "Epoch 15/15\n",
      "37800/37800 [==============================] - 4s 101us/sample - loss: 0.0098 - acc: 0.9969\n"
     ]
    }
   ],
   "source": [
    "#Fit training data to the model\n",
    "history=model.fit(train_x,train_y,epochs=15)"
   ]
  },
  {
   "cell_type": "code",
   "execution_count": 528,
   "metadata": {},
   "outputs": [
    {
     "data": {
      "image/png": "[encoded data removed]",
      "text/plain": [
       "<Figure size 432x288 with 1 Axes>"
      ]
     },
     "metadata": {
      "needs_background": "light"
     },
     "output_type": "display_data"
    }
   ],
   "source": [
    "#Calc epochs efficiency:\n",
    "loss = history.history['loss']\n",
    "acc = history.history['acc']\n",
    "\n",
    "epochs = range(1,len(loss)+1)\n",
    "plt.plot(epochs,acc,'bx',label='Accuracy')\n",
    "plt.plot(epochs,loss,'bo',label='Loss')\n",
    "plt.xlabel('Epochs')\n",
    "plt.ylabel('Accuracy')\n",
    "plt.legend()\n",
    "plt.show()"
   ]
  },
  {
   "cell_type": "code",
   "execution_count": 529,
   "metadata": {
    "scrolled": true
   },
   "outputs": [
    {
     "name": "stdout",
     "output_type": "stream",
     "text": [
      "4200/4200 [==============================] - 0s 81us/sample - loss: 0.1194 - acc: 0.9733\n"
     ]
    }
   ],
   "source": [
    "#Calc loss and accuracy on test(train-test) data:\n",
    "test_loss,test_acc = model.evaluate(test_x, test_y)"
   ]
  },
  {
   "cell_type": "code",
   "execution_count": 530,
   "metadata": {
    "scrolled": true
   },
   "outputs": [
    {
     "name": "stdout",
     "output_type": "stream",
     "text": [
      "Probability distribution:\n",
      "[1.4351167e-03 3.0757840e-12 3.8095199e-02 1.4773941e-06 2.3838484e-10\n",
      " 8.8733107e-01 3.1265434e-02 1.2234032e-17 4.1871663e-02 2.5521043e-08]\n",
      "Predicted value:\n",
      "5\n",
      "Actual value:\n",
      "5\n"
     ]
    }
   ],
   "source": [
    "#Try test index predict vs actual\n",
    "predictions  = model.predict(test_x)\n",
    "idx = 34\n",
    "print('Probability distribution:')\n",
    "print(predictions[idx])\n",
    "print('Predicted value:')\n",
    "print(np.argmax(predictions[idx]))\n",
    "print('Actual value:')\n",
    "print(test_y[idx])"
   ]
  },
  {
   "cell_type": "code",
   "execution_count": 531,
   "metadata": {},
   "outputs": [],
   "source": [
    "#Fail to predict correctly:\n",
    "num_rows = test_x.shape[0]\n",
    "predictions_label=[]     #convert predictions to labels\n",
    "incorrect_predict_digit = [] \n",
    "incorrect_actual_digit = [] \n",
    "err_indx=[]\n",
    "for i in range(num_rows):\n",
    "    predicted_value = np.argmax(predictions[i])\n",
    "    predictions_label.append(np.argmax(predictions[i]))\n",
    "    actual_value = test_y[i]\n",
    "    if predicted_value != actual_value:\n",
    "        incorrect_predict_digit.append(predicted_value)\n",
    "        incorrect_actual_digit.append(actual_value)\n",
    "        err_indx.append(i)\n"
   ]
  },
  {
   "cell_type": "code",
   "execution_count": 532,
   "metadata": {},
   "outputs": [
    {
     "data": {
      "image/png": "[encoded data removed]",
      "text/plain": [
       "<Figure size 2016x2016 with 5 Axes>"
      ]
     },
     "metadata": {
      "needs_background": "light"
     },
     "output_type": "display_data"
    }
   ],
   "source": [
    "#First 5 wrong predictions:\n",
    "plt.figure(figsize=(28,28))\n",
    "for i in range(5):\n",
    "    plt.subplot(1,5,i+1)\n",
    "    plt.grid(False)\n",
    "    plt.imshow(test_x[err_indx[i]].reshape(28,28), cmap=plt.cm.binary)\n",
    "    plt.title(predictions_label[err_indx[i]],fontsize= 30)\n",
    "plt.show()"
   ]
  },
  {
   "cell_type": "code",
   "execution_count": 533,
   "metadata": {
    "scrolled": true
   },
   "outputs": [
    {
     "data": {
      "image/png": "[encoded data removed]",
      "text/plain": [
       "<Figure size 432x288 with 1 Axes>"
      ]
     },
     "metadata": {
      "needs_background": "light"
     },
     "output_type": "display_data"
    }
   ],
   "source": [
    "#Histogram fails predict vs actual:\n",
    "plt.hist(incorrect_predict_digit,bins=40,color='blue', alpha=0.5)\n",
    "plt.hist(incorrect_actual_digit,bins=40,color='gray', alpha=0.5)\n",
    "plt.xticks(np.arange(10), range(10))\n",
    "plt.show()"
   ]
  },
  {
   "cell_type": "code",
   "execution_count": 534,
   "metadata": {
    "scrolled": true
   },
   "outputs": [
    {
     "name": "stdout",
     "output_type": "stream",
     "text": [
      "[[418   0   1   0   0   0   0   1   0   0]\n",
      " [  0 485   1   1   0   0   0   0   0   1]\n",
      " [  0   0 414   0   1   0   1   2   3   0]\n",
      " [  1   0   8 404   0   3   0   2   4   1]\n",
      " [  0   0   1   1 407   0   1   2   0  14]\n",
      " [  3   0   2   7   0 373   3   0   3   0]\n",
      " [  2   0   3   0   3   0 394   0   1   0]\n",
      " [  0   0   5   2   0   1   0 394   0   1]\n",
      " [  0   3   3   0   4   1   0   1 397   2]\n",
      " [  2   0   0   1   1   3   0   5   0 402]]\n"
     ]
    },
    {
     "data": {
      "text/plain": [
       "Text(95.305, 0.5, 'Actual')"
      ]
     },
     "execution_count": 534,
     "metadata": {},
     "output_type": "execute_result"
    },
    {
     "data": {
      "image/png": "[encoded data removed]",
      "text/plain": [
       "<Figure size 432x288 with 2 Axes>"
      ]
     },
     "metadata": {
      "needs_background": "light"
     },
     "output_type": "display_data"
    }
   ],
   "source": [
    "#Confusion matrix:\n",
    "cm = confusion_matrix(test_y, predictions_label)\n",
    "print(cm)\n",
    "\n",
    "# Plot confusion matrix as an image:\n",
    "for i in list(range(10)):\n",
    "    cm[i,i] = 0   #remove corrects for clear view\n",
    "plt.imshow(cm, interpolation='nearest', cmap='viridis')#cmap=plt.cm.Blues\n",
    "plt.tight_layout()\n",
    "plt.colorbar()\n",
    "tick_marks = np.arange(10)\n",
    "plt.xticks(tick_marks, range(10))\n",
    "plt.yticks(tick_marks, range(10))\n",
    "plt.xlabel('Predicted')\n",
    "plt.ylabel('Actual')"
   ]
  },
  {
   "cell_type": "code",
   "execution_count": 568,
   "metadata": {},
   "outputs": [],
   "source": [
    "#Output prediction for real test data:\n",
    "\n",
    "predict_test = model.predict(test.values)\n",
    "#convert predictions to labels\n",
    "rws = test.shape[0]\n",
    "prediction_test_label=[]    \n",
    "for i in range(rws):\n",
    "    prediction_test_label.append(np.argmax(predict_test[i]))\n",
    "\n",
    "#idx = 300\n",
    "#print('Probability distribution:')\n",
    "#print(predict_test[idx])\n",
    "#print('Predicted value:')\n",
    "#print(np.argmax(predict_test[idx]))\n",
    "#plt.figure(figsize=(28,28))\n",
    "#plt.imshow(test.values[idx].reshape(28,28), cmap=plt.cm.binary)\n",
    "#plt.title(np.argmax(predict_test[idx]),fontsize= 30)\n",
    "#plt.show()\n",
    "\n",
    "test_pred_result=pd.DataFrame(\n",
    "    {'ImageId': list(range(1,28001)),\n",
    "     'Label': prediction_test_label\n",
    "    })\n",
    "\n",
    "test_pred_result.to_csv('Evaluation_submission.csv', index=False)"
   ]
  }
 ],
 "metadata": {
  "kernelspec": {
   "display_name": "Python 3",
   "language": "python",
   "name": "python3"
  },
  "language_info": {
   "codemirror_mode": {
    "name": "ipython",
    "version": 3
   },
   "file_extension": ".py",
   "mimetype": "text/x-python",
   "name": "python",
   "nbconvert_exporter": "python",
   "pygments_lexer": "ipython3",
   "version": "3.7.1"
  }
 },
 "nbformat": 4,
 "nbformat_minor": 2
}
